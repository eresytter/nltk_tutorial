{
  "nbformat": 4,
  "nbformat_minor": 0,
  "metadata": {
    "colab": {
      "name": "NLTK-importing_text_and_basic_wrangling.ipynb",
      "provenance": [],
      "collapsed_sections": [],
      "authorship_tag": "ABX9TyNs1orVXz6qwOjnM0jP+tcl",
      "include_colab_link": true
    },
    "kernelspec": {
      "name": "python3",
      "display_name": "Python 3"
    }
  },
  "cells": [
    {
      "cell_type": "markdown",
      "metadata": {
        "id": "view-in-github",
        "colab_type": "text"
      },
      "source": [
        "<a href=\"https://colab.research.google.com/github/eresytter/nltk_tutorial/blob/main/NLTK_importing_text_and_basic_wrangling.ipynb\" target=\"_parent\"><img src=\"https://colab.research.google.com/assets/colab-badge.svg\" alt=\"Open In Colab\"/></a>"
      ]
    },
    {
      "cell_type": "code",
      "metadata": {
        "id": "LyzOumliw4BM"
      },
      "source": [
        "import nltk\r\n",
        "import pandas as pd\r\n",
        "import re"
      ],
      "execution_count": 1,
      "outputs": []
    },
    {
      "cell_type": "code",
      "metadata": {
        "colab": {
          "resources": {
            "http://localhost:8080/nbextensions/google.colab/files.js": {
              "data": "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",
              "ok": true,
              "headers": [
                [
                  "content-type",
                  "application/javascript"
                ]
              ],
              "status": 200,
              "status_text": ""
            }
          },
          "base_uri": "https://localhost:8080/",
          "height": 73
        },
        "id": "mR4q-_pYK7QT",
        "outputId": "0745f53f-2442-488e-ba05-0e6508aece47"
      },
      "source": [
        "from google.colab import files\r\n",
        "upload = files.upload()"
      ],
      "execution_count": 2,
      "outputs": [
        {
          "output_type": "display_data",
          "data": {
            "text/html": [
              "\n",
              "     <input type=\"file\" id=\"files-1dec3f72-fc3e-475c-88ad-cc62bda373fa\" name=\"files[]\" multiple disabled\n",
              "        style=\"border:none\" />\n",
              "     <output id=\"result-1dec3f72-fc3e-475c-88ad-cc62bda373fa\">\n",
              "      Upload widget is only available when the cell has been executed in the\n",
              "      current browser session. Please rerun this cell to enable.\n",
              "      </output>\n",
              "      <script src=\"/nbextensions/google.colab/files.js\"></script> "
            ],
            "text/plain": [
              "<IPython.core.display.HTML object>"
            ]
          },
          "metadata": {
            "tags": []
          }
        },
        {
          "output_type": "stream",
          "text": [
            "Saving blue_whale.txt to blue_whale.txt\n"
          ],
          "name": "stdout"
        }
      ]
    },
    {
      "cell_type": "code",
      "metadata": {
        "id": "_GBeqZx3LOLf"
      },
      "source": [
        "# reference: https://machinelearningmastery.com/clean-text-machine-learning-python/#:~:text=3.-,Split%20into%20Words,%E2%80%9D%20%E2%80%9C%27s%E2%80%9C).\r\n",
        "filename = 'blue_whale.txt'\r\n",
        "file = open(filename, 'rt')\r\n",
        "text = file.read()\r\n",
        "file.close()"
      ],
      "execution_count": 3,
      "outputs": []
    },
    {
      "cell_type": "code",
      "metadata": {
        "colab": {
          "base_uri": "https://localhost:8080/"
        },
        "id": "NJSKUTZxMSXk",
        "outputId": "80f64e6d-c8cc-4c4c-e404-2c9302956214"
      },
      "source": [
        "words = text.split()\r\n",
        "print(words[:100])"
      ],
      "execution_count": 4,
      "outputs": [
        {
          "output_type": "stream",
          "text": [
            "['The', 'blue', 'whale', '(Balaenoptera', 'musculus)', 'is', 'a', 'marine', 'mammal', 'belonging', 'to', 'the', 'baleen', 'whale', 'suborder', 'Mysticeti.', 'Reaching', 'a', 'maximum', 'confirmed', 'length', 'of', '29.9', 'meters', '(98', 'feet)', 'and', 'weight', 'of', '173', 'tonnes', '(190', 'tons),', 'it', 'is', 'the', 'largest', 'animal', 'known', 'to', 'have', 'ever', 'existed.', 'The', 'blue', 'whale’s', 'long', 'and', 'slender', 'body', 'can', 'be', 'various', 'shades', 'of', 'grayish-blue', 'dorsally', 'and', 'somewhat', 'lighter', 'underneath.', 'There', 'are', 'currently', 'five', 'subspecies', 'of', 'blue', 'whale,', 'recognized', 'by', 'the', 'Society', 'for', 'Marine', 'Mammalogy’s', 'Committee', 'on', 'Taxonomy:', 'B.', 'm.', 'musculus', 'in', 'the', 'North', 'Atlantic', 'and', 'North', 'Pacific,', 'B.', 'm.', 'intermedia', 'in', 'the', 'Southern', 'Ocean,', 'B.', 'm.', 'brevicauda', '(the']\n"
          ],
          "name": "stdout"
        }
      ]
    },
    {
      "cell_type": "code",
      "metadata": {
        "colab": {
          "base_uri": "https://localhost:8080/"
        },
        "id": "ZeMEodItOwyM",
        "outputId": "d750cf01-a24d-4e56-bcba-2369469bfe84"
      },
      "source": [
        "tokens = [tok for tok in text.split()]\r\n",
        "print(\"Total no of tokens: \"+ str(len(tokens)))\r\n",
        "# First 100 tokens\r\n",
        "print(tokens[0:100])"
      ],
      "execution_count": 5,
      "outputs": [
        {
          "output_type": "stream",
          "text": [
            "Total no of tokens: 250\n",
            "['The', 'blue', 'whale', '(Balaenoptera', 'musculus)', 'is', 'a', 'marine', 'mammal', 'belonging', 'to', 'the', 'baleen', 'whale', 'suborder', 'Mysticeti.', 'Reaching', 'a', 'maximum', 'confirmed', 'length', 'of', '29.9', 'meters', '(98', 'feet)', 'and', 'weight', 'of', '173', 'tonnes', '(190', 'tons),', 'it', 'is', 'the', 'largest', 'animal', 'known', 'to', 'have', 'ever', 'existed.', 'The', 'blue', 'whale’s', 'long', 'and', 'slender', 'body', 'can', 'be', 'various', 'shades', 'of', 'grayish-blue', 'dorsally', 'and', 'somewhat', 'lighter', 'underneath.', 'There', 'are', 'currently', 'five', 'subspecies', 'of', 'blue', 'whale,', 'recognized', 'by', 'the', 'Society', 'for', 'Marine', 'Mammalogy’s', 'Committee', 'on', 'Taxonomy:', 'B.', 'm.', 'musculus', 'in', 'the', 'North', 'Atlantic', 'and', 'North', 'Pacific,', 'B.', 'm.', 'intermedia', 'in', 'the', 'Southern', 'Ocean,', 'B.', 'm.', 'brevicauda', '(the']\n"
          ],
          "name": "stdout"
        }
      ]
    },
    {
      "cell_type": "code",
      "metadata": {
        "colab": {
          "base_uri": "https://localhost:8080/"
        },
        "id": "n6EeALIbPjmw",
        "outputId": "8ebacbbc-f8f1-409f-f1c7-d7577e8f015a"
      },
      "source": [
        "# https://docs.python.org/2/library/re.html\r\n",
        "tokens = re.split('\\W+',text)\r\n",
        "print(len(tokens))\r\n",
        "print(tokens[0:100])"
      ],
      "execution_count": 6,
      "outputs": [
        {
          "output_type": "stream",
          "text": [
            "267\n",
            "['The', 'blue', 'whale', 'Balaenoptera', 'musculus', 'is', 'a', 'marine', 'mammal', 'belonging', 'to', 'the', 'baleen', 'whale', 'suborder', 'Mysticeti', 'Reaching', 'a', 'maximum', 'confirmed', 'length', 'of', '29', '9', 'meters', '98', 'feet', 'and', 'weight', 'of', '173', 'tonnes', '190', 'tons', 'it', 'is', 'the', 'largest', 'animal', 'known', 'to', 'have', 'ever', 'existed', 'The', 'blue', 'whale', 's', 'long', 'and', 'slender', 'body', 'can', 'be', 'various', 'shades', 'of', 'grayish', 'blue', 'dorsally', 'and', 'somewhat', 'lighter', 'underneath', 'There', 'are', 'currently', 'five', 'subspecies', 'of', 'blue', 'whale', 'recognized', 'by', 'the', 'Society', 'for', 'Marine', 'Mammalogy', 's', 'Committee', 'on', 'Taxonomy', 'B', 'm', 'musculus', 'in', 'the', 'North', 'Atlantic', 'and', 'North', 'Pacific', 'B', 'm', 'intermedia', 'in', 'the', 'Southern', 'Ocean']\n"
          ],
          "name": "stdout"
        }
      ]
    },
    {
      "cell_type": "code",
      "metadata": {
        "id": "kqu1lSpMWDu-",
        "colab": {
          "base_uri": "https://localhost:8080/"
        },
        "outputId": "7be856b5-99d9-4c06-cdd1-2cf0168ce5e2"
      },
      "source": [
        "# TODO: read://www.nltk.org/api/nltk.html#nltk.util.clean_html\r\n",
        "freqtext = nltk.FreqDist(tokens)\r\n",
        "print(freqtext)"
      ],
      "execution_count": 8,
      "outputs": [
        {
          "output_type": "stream",
          "text": [
            "<FreqDist with 158 samples and 267 outcomes>\n"
          ],
          "name": "stdout"
        }
      ]
    },
    {
      "cell_type": "code",
      "metadata": {
        "colab": {
          "base_uri": "https://localhost:8080/"
        },
        "id": "8zfipuwQ3wfs",
        "outputId": "6f1cded0-c49f-42ab-f6cd-39f811e5f51e"
      },
      "source": [
        "# Below snippet will list frequencies of each tokens\r\n",
        "# Read more how to rearrange the freq order etc.\r\n",
        "for k,v in freqtext.items():\r\n",
        "  print(str(k)+':'+str(v))"
      ],
      "execution_count": 9,
      "outputs": [
        {
          "output_type": "stream",
          "text": [
            "The:6\n",
            "blue:10\n",
            "whale:8\n",
            "Balaenoptera:1\n",
            "musculus:2\n",
            "is:3\n",
            "a:2\n",
            "marine:1\n",
            "mammal:1\n",
            "belonging:1\n",
            "to:4\n",
            "the:16\n",
            "baleen:1\n",
            "suborder:1\n",
            "Mysticeti:1\n",
            "Reaching:1\n",
            "maximum:1\n",
            "confirmed:1\n",
            "length:1\n",
            "of:9\n",
            "29:1\n",
            "9:1\n",
            "meters:1\n",
            "98:1\n",
            "feet:1\n",
            "and:8\n",
            "weight:1\n",
            "173:1\n",
            "tonnes:1\n",
            "190:1\n",
            "tons:1\n",
            "it:1\n",
            "largest:1\n",
            "animal:1\n",
            "known:1\n",
            "have:1\n",
            "ever:1\n",
            "existed:1\n",
            "s:2\n",
            "long:1\n",
            "slender:1\n",
            "body:1\n",
            "can:1\n",
            "be:2\n",
            "various:1\n",
            "shades:1\n",
            "grayish:1\n",
            "dorsally:1\n",
            "somewhat:1\n",
            "lighter:1\n",
            "underneath:1\n",
            "There:2\n",
            "are:1\n",
            "currently:1\n",
            "five:1\n",
            "subspecies:1\n",
            "recognized:1\n",
            "by:2\n",
            "Society:1\n",
            "for:1\n",
            "Marine:1\n",
            "Mammalogy:1\n",
            "Committee:1\n",
            "on:2\n",
            "Taxonomy:1\n",
            "B:5\n",
            "m:5\n",
            "in:9\n",
            "North:5\n",
            "Atlantic:2\n",
            "Pacific:4\n",
            "intermedia:1\n",
            "Southern:1\n",
            "Ocean:5\n",
            "brevicauda:1\n",
            "pygmy:1\n",
            "Indian:3\n",
            "South:1\n",
            "indica:1\n",
            "Northern:2\n",
            "unnamed:1\n",
            "subsp:1\n",
            "waters:1\n",
            "off:1\n",
            "Chile:2\n",
            "diet:1\n",
            "consists:1\n",
            "almost:2\n",
            "exclusively:1\n",
            "euphausiids:1\n",
            "krill:1\n",
            "was:2\n",
            "once:1\n",
            "abundant:1\n",
            "nearly:1\n",
            "all:2\n",
            "oceans:1\n",
            "Earth:1\n",
            "until:2\n",
            "end:1\n",
            "19th:1\n",
            "century:1\n",
            "It:1\n",
            "hunted:1\n",
            "point:1\n",
            "extinction:1\n",
            "whaling:1\n",
            "Interbnational:1\n",
            "Whaling:2\n",
            "Commission:2\n",
            "banned:1\n",
            "hunting:1\n",
            "whales:2\n",
            "1967:1\n",
            "International:1\n",
            "catch:1\n",
            "database:1\n",
            "estimates:1\n",
            "that:1\n",
            "382:1\n",
            "595:1\n",
            "were:1\n",
            "caught:1\n",
            "between:1\n",
            "1868:1\n",
            "1978:1\n",
            "global:1\n",
            "population:2\n",
            "estimated:2\n",
            "10:1\n",
            "000:4\n",
            "25:1\n",
            "roughly:1\n",
            "3:1\n",
            "11:1\n",
            "size:1\n",
            "1911:1\n",
            "remain:1\n",
            "only:1\n",
            "much:1\n",
            "smaller:1\n",
            "concentrations:1\n",
            "Eastern:1\n",
            "1:2\n",
            "647:1\n",
            "Central:1\n",
            "63:1\n",
            "133:1\n",
            "2:2\n",
            "Antarctic:1\n",
            "280:1\n",
            "New:1\n",
            "Zealand:1\n",
            "718:1\n",
            "270:1\n",
            "570:1\n",
            "760:1\n",
            ":1\n"
          ],
          "name": "stdout"
        }
      ]
    },
    {
      "cell_type": "code",
      "metadata": {
        "colab": {
          "base_uri": "https://localhost:8080/",
          "height": 336
        },
        "id": "ffQnGFBN34hr",
        "outputId": "7ad36146-5d01-46cd-88c3-b53c7ef0d4ea"
      },
      "source": [
        "# We can also plot this:\r\n",
        "freqtext.plot(50, cumulative=False)"
      ],
      "execution_count": 10,
      "outputs": [
        {
          "output_type": "display_data",
          "data": {
            "image/png": "[encoded data removed]",
            "text/plain": [
              "<Figure size 432x288 with 1 Axes>"
            ]
          },
          "metadata": {
            "tags": [],
            "needs_background": "light"
          }
        }
      ]
    },
    {
      "cell_type": "code",
      "metadata": {
        "id": "rt1nAG_N4lB6"
      },
      "source": [
        "# We can also clean the data further, e.g.\r\n",
        "# Assuming that we have the list of English stop words\r\n",
        "# stopwords = [word.strip().lower() for word in open(\"path/english_stop.txt\")]\r\n",
        "# clean_tokens = [tok for tok in tokens if len(tok.lower())>1 and (tok.lower() not in stopwords)]"
      ],
      "execution_count": 11,
      "outputs": []
    },
    {
      "cell_type": "code",
      "metadata": {
        "id": "MkL4xUy45LSg"
      },
      "source": [
        "## TODO:eres, get the whole Blue Whale article and clean it from stop words.\r\n",
        "## Then, try to export the distribution into a CSV and put it up into a word cloud."
      ],
      "execution_count": null,
      "outputs": []
    }
  ]
}